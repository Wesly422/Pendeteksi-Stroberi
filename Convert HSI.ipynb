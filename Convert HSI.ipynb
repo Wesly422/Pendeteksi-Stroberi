{
 "cells": [
  {
   "cell_type": "code",
   "execution_count": null,
   "id": "49763bfa",
   "metadata": {},
   "outputs": [],
   "source": [
    "import cv2\n",
    "import numpy as np\n",
    "import math\n",
    "import matplotlib.pyplot as plt"
   ]
  },
  {
   "cell_type": "code",
   "execution_count": null,
   "id": "807419c5",
   "metadata": {},
   "outputs": [],
   "source": [
    "def RGB_TO_HSI(img):\n",
    "    \n",
    "    with np.errstate(divide='ignore', invalid='ignore'):\n",
    "        \n",
    "        bgr =np.float32(img)/255\n",
    "        \n",
    "        blue = bgr [:,:,0]\n",
    "        green = bgr [:,:,1]\n",
    "        red = bgr [:,:,2]\n",
    "        \n",
    "        def calc_intensity(red, green, blue):\n",
    "            return np.divide(blue + green + red, 3)\n",
    "        \n",
    "        def calc_saturation(red, green, blue):\n",
    "            minimum = np.minimum(np.minimum(red, green),blue)\n",
    "            saturation = 1 - (3 / (red + green + blue + 0.001) * minimum)\n",
    "            \n",
    "            return saturation\n",
    "        \n",
    "        def calc_hue(red, blue, green):\n",
    "            hue = np.copy(red)\n",
    "            \n",
    "            for i in range(0, blue.shape[0]):\n",
    "                for j in range(0, blue.shape[1]):\n",
    "                    hue[i][j] = 0.5 * ((red[i][j] - green[i][j]) + (red[i][j] - blue[i][j])) / \\\n",
    "                                math.sqrt((red[i][j] - green[i][j])**2 +\n",
    "                                        ((red[i][j] - blue[i][j]) * (green[i][j] - blue[i][j])))\n",
    "                    hue[i][j] = math.acos(hue[i][j])\n",
    "\n",
    "                    if blue[i][j] <= green[i][j]:\n",
    "                        hue[i][j] = hue[i][j]\n",
    "                    else:\n",
    "                        hue[i][j] = ((360 * math.pi) / 180.0) - hue[i][j]\n",
    "\n",
    "            return hue\n",
    "        \n",
    "        hsi = cv2.merge((calc_hue(red, blue, green), calc_saturation(red, blue, green), calc_intensity(red, blue, green)))\n",
    "        return hsi"
   ]
  },
  {
   "cell_type": "markdown",
   "id": "edc6355e",
   "metadata": {},
   "source": [
    "# Konversi Data Latih\n"
   ]
  },
  {
   "cell_type": "code",
   "execution_count": null,
   "id": "c91d4b8c",
   "metadata": {},
   "outputs": [],
   "source": [
    "while True:\n",
    "    for i in range(150):\n",
    "        img_size=500\n",
    "        img = cv2.imread('Latih/Matang/{}.jpg'.format(i+1),1)\n",
    "        new_arr = cv2.resize(img, (img_size, img_size))\n",
    "        hsi = RGB_TO_HSI(new_arr)\n",
    "        cv2.imwrite('Latih/Matang/HSI Baru/{}.jpg'.format(i+1), 255*hsi)\n",
    "    else:\n",
    "        break\n",
    "        \n",
    "while True:\n",
    "    for i in range(150):\n",
    "        img_size=500\n",
    "        img = cv2.imread('Latih/Mentah/{}.jpg'.format(i+1),1)\n",
    "        new_arr = cv2.resize(img, (img_size, img_size))\n",
    "        hsi = RGB_TO_HSI(new_arr)\n",
    "        cv2.imwrite('Latih/Mentah/HSI Baru/{}.jpg'.format(i+1), 255*hsi)\n",
    "    else:\n",
    "        break"
   ]
  },
  {
   "cell_type": "markdown",
   "id": "9f4c6ca2",
   "metadata": {},
   "source": [
    "# Konversi Data Uji 1"
   ]
  },
  {
   "cell_type": "code",
   "execution_count": null,
   "id": "f82a57e6",
   "metadata": {},
   "outputs": [],
   "source": [
    "while True:\n",
    "    for i in range(60):\n",
    "        img_size=500\n",
    "        img = cv2.imread('Uji/Matang/Matang (pokok)/{}.jpg'.format(i+1),1)\n",
    "        new_arr = cv2.resize(img, (img_size, img_size))\n",
    "        hsi = RGB_TO_HSI(new_arr)\n",
    "        cv2.imwrite('Uji/Matang/Matang (pokok)/HSI/{}.jpg'.format(i+1), 255*hsi)\n",
    "    else:\n",
    "        break\n",
    "        \n",
    "while True:\n",
    "    for i in range(50):\n",
    "        img_size=500\n",
    "        img = cv2.imread('Uji/Mentah/{}.jpg'.format(i+1),1)\n",
    "        new_arr = cv2.resize(img, (img_size, img_size))\n",
    "        hsi = RGB_TO_HSI(new_arr)\n",
    "        cv2.imwrite('Uji/Mentah/HSI/{}.jpg'.format(i+1), 255*hsi)\n",
    "    else:\n",
    "        break\n",
    "        \n",
    "while True:\n",
    "    for i in range(42):\n",
    "        img_size=500\n",
    "        img = cv2.imread('Uji/Mentah/Mentah (BG Putih)/{}.jpg'.format(i+1),1)\n",
    "        new_arr = cv2.resize(img, (img_size, img_size))\n",
    "        hsi = RGB_TO_HSI(new_arr)\n",
    "        cv2.imwrite('Uji/Mentah/Mentah (BG Putih)/HSI/{}.jpg'.format(i+1), 255*hsi)\n",
    "    else:\n",
    "        break"
   ]
  },
  {
   "cell_type": "markdown",
   "id": "a30b63a4",
   "metadata": {},
   "source": [
    "# Konversi Data Uji 2"
   ]
  },
  {
   "cell_type": "code",
   "execution_count": null,
   "id": "69fe88e9",
   "metadata": {},
   "outputs": [],
   "source": [
    "while True:\n",
    "    for i in range(104):\n",
    "        img_size=500\n",
    "        img = cv2.imread('Uji/Matang v2/{}.jpg'.format(i+1),1)\n",
    "        new_arr = cv2.resize(img, (img_size, img_size))\n",
    "        hsi = RGB_TO_HSI(new_arr)\n",
    "        cv2.imwrite('Uji/Matang v2/HSI/{}.jpg'.format(i+1), 255*hsi)\n",
    "    else:\n",
    "        break\n",
    "        \n",
    "while True:\n",
    "    for i in range(116):\n",
    "        img_size=500\n",
    "        img = cv2.imread('Uji/Mentah v2/{}.jpg'.format(i+1),1)\n",
    "        new_arr = cv2.resize(img, (img_size, img_size))\n",
    "        hsi = RGB_TO_HSI(new_arr)\n",
    "        cv2.imwrite('Uji/Mentah v2/HSI/{}.jpg'.format(i+1), 255*hsi)"
   ]
  },
  {
   "cell_type": "code",
   "execution_count": null,
   "id": "6e81f17c",
   "metadata": {},
   "outputs": [],
   "source": []
  },
  {
   "cell_type": "markdown",
   "id": "93c62ccc",
   "metadata": {},
   "source": [
    "## JANGAN DIHAPUS"
   ]
  },
  {
   "cell_type": "code",
   "execution_count": null,
   "id": "86fa70e7",
   "metadata": {},
   "outputs": [],
   "source": [
    "while True:\n",
    "    for i in range(80):\n",
    "        img = cv2.imread('Latih/Immature/{}.jpg'.format(i+1),1)\n",
    "        hsi = RGB_TO_HSI(img)\n",
    "        cv2.imwrite('Latih/Immature/HSI/{}.jpg'.format(i+1), 255*hsi)\n",
    "    else:\n",
    "        break"
   ]
  }
 ],
 "metadata": {
  "kernelspec": {
   "display_name": "Python 3 (ipykernel)",
   "language": "python",
   "name": "python3"
  },
  "language_info": {
   "codemirror_mode": {
    "name": "ipython",
    "version": 3
   },
   "file_extension": ".py",
   "mimetype": "text/x-python",
   "name": "python",
   "nbconvert_exporter": "python",
   "pygments_lexer": "ipython3",
   "version": "3.10.7"
  }
 },
 "nbformat": 4,
 "nbformat_minor": 5
}
