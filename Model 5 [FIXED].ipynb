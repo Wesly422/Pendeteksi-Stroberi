{
 "cells": [
  {
   "cell_type": "code",
   "execution_count": 1,
   "id": "1c87160f",
   "metadata": {},
   "outputs": [],
   "source": [
    "import os \n",
    "import random\n",
    "from shutil import copyfile\n",
    "import tensorflow as tf\n",
    "from tensorflow.keras.preprocessing import image\n",
    "import numpy as np\n",
    "import matplotlib.pyplot as plt\n",
    "import matplotlib.image as mpimg\n",
    "import tensorflow as tf\n",
    "from tensorflow.keras.optimizers import Adam\n",
    "from tensorflow.keras.preprocessing.image import ImageDataGenerator"
   ]
  },
  {
   "cell_type": "code",
   "execution_count": 2,
   "id": "bb87088a",
   "metadata": {},
   "outputs": [],
   "source": [
    "base_dir = 'DataBuah'"
   ]
  },
  {
   "cell_type": "code",
   "execution_count": 3,
   "id": "82d3361b",
   "metadata": {},
   "outputs": [
    {
     "name": "stdout",
     "output_type": "stream",
     "text": [
      "Bahan\n",
      "Latih\n",
      "Validasi\n"
     ]
    }
   ],
   "source": [
    "for image_class in os.listdir(base_dir):\n",
    "    print(image_class)"
   ]
  },
  {
   "cell_type": "code",
   "execution_count": 4,
   "id": "f186fa5d",
   "metadata": {},
   "outputs": [],
   "source": [
    "bahan_dir = os.path.join(base_dir, 'Bahan')\n",
    "train_dir = os.path.join(base_dir, 'Latih')\n",
    "validation_dir = os.path.join(base_dir, 'Validasi')"
   ]
  },
  {
   "cell_type": "code",
   "execution_count": 5,
   "id": "aa392c84",
   "metadata": {},
   "outputs": [
    {
     "name": "stdout",
     "output_type": "stream",
     "text": [
      "Jumlah Data Train Tiap Kelas\n",
      "Jumlah gambar stroberi Matang : 150\n",
      "Jumlah gambar stroberi Mentah : 150\n"
     ]
    }
   ],
   "source": [
    "matang_dir = os.path.join(bahan_dir, 'Matang/')\n",
    "mentah_dir = os.path.join(bahan_dir, 'Mentah/')\n",
    "\n",
    "print(\"Jumlah Data Train Tiap Kelas\")\n",
    "print('Jumlah gambar stroberi Matang :', len(os.listdir(matang_dir)))\n",
    "print('Jumlah gambar stroberi Mentah :', len(os.listdir(mentah_dir)))"
   ]
  },
  {
   "cell_type": "code",
   "execution_count": 6,
   "id": "eea508eb",
   "metadata": {},
   "outputs": [],
   "source": [
    "# menentukan direktori isi Training\n",
    "train_matang = os.path.join(train_dir, 'Matang/')\n",
    "train_mentah = os.path.join(train_dir, 'Mentah/')\n",
    "\n",
    "# menentukan direktori isi validasi\n",
    "validation_matang = os.path.join(validation_dir, 'Matang/')\n",
    "validation_mentah = os.path.join(validation_dir, 'Mentah/')"
   ]
  },
  {
   "cell_type": "code",
   "execution_count": 7,
   "id": "2d0819ae",
   "metadata": {},
   "outputs": [],
   "source": [
    "def train_val_split(source, train, val, train_ratio):\n",
    "  total_size = len(os.listdir(source)) \n",
    "  train_size = int(train_ratio * total_size)\n",
    "  val_size = total_size - train_size\n",
    "\n",
    "  randomized = random.sample(os.listdir(source), total_size)\n",
    "  train_files = randomized[0:train_size]\n",
    "  val_files = randomized[train_size:total_size]\n",
    "\n",
    "  for i in train_files:\n",
    "    i_file = source + i\n",
    "    destination = train + i\n",
    "    copyfile(i_file, destination)\n",
    "\n",
    "  for i in val_files:\n",
    "    i_file = source + i\n",
    "    destination = val + i\n",
    "    copyfile(i_file, destination)\n",
    "\n",
    "#jumlah pembagian data training dan testing\n",
    "train_ratio = 0.8\n",
    "\n",
    "#pembagian training dan validasi\n",
    "  #training\n",
    "source_00 = matang_dir\n",
    "train_00 = train_matang\n",
    "val_00 = validation_matang\n",
    "train_val_split(source_00, train_00, val_00, train_ratio)\n",
    "\n",
    "  #validasi\n",
    "source_01 = mentah_dir\n",
    "train_01 = train_mentah\n",
    "val_01 = validation_mentah\n",
    "train_val_split(source_01, train_01, val_01, train_ratio)"
   ]
  },
  {
   "cell_type": "code",
   "execution_count": 8,
   "id": "34260e38",
   "metadata": {},
   "outputs": [
    {
     "name": "stdout",
     "output_type": "stream",
     "text": [
      "Jumlah Semua Stroberi Matang : 150\n",
      "Jumlah Train Stroberi Matang : 120\n",
      "Jumlah Val Stroberi Matang :  30\n",
      "Jumlah Semua Stroberi Mentah : 150\n",
      "Jumlah Train Stroberi Mentah : 120\n",
      "Jumlah Val Stroberi Mentah :  30\n"
     ]
    }
   ],
   "source": [
    "print('Jumlah Semua Stroberi Matang :', len(os.listdir(matang_dir)))\n",
    "print('Jumlah Train Stroberi Matang :', len(os.listdir(train_matang)))\n",
    "print('Jumlah Val Stroberi Matang : ', len(os.listdir(validation_matang)))\n",
    "print('Jumlah Semua Stroberi Mentah :', len(os.listdir(mentah_dir)))\n",
    "print('Jumlah Train Stroberi Mentah :', len(os.listdir(train_mentah)))\n",
    "print('Jumlah Val Stroberi Mentah : ', len(os.listdir(validation_mentah)))"
   ]
  },
  {
   "cell_type": "code",
   "execution_count": 9,
   "id": "5adca2ee",
   "metadata": {},
   "outputs": [],
   "source": [
    "train_datagen = ImageDataGenerator(\n",
    "    rescale = 1./255,\n",
    "    rotation_range = 30,\n",
    "    horizontal_flip = True,\n",
    "    shear_range = 0.3,\n",
    "    fill_mode = 'nearest',\n",
    "    width_shift_range = 0.2,\n",
    "    height_shift_range = 0.2,\n",
    "    zoom_range = 0.1\n",
    ")\n",
    "\n",
    "val_datagen = ImageDataGenerator(\n",
    "    rescale = 1./255,\n",
    "    rotation_range = 30,\n",
    "    horizontal_flip = True,\n",
    "    shear_range = 0.3,\n",
    "    fill_mode = 'nearest',\n",
    "    width_shift_range = 0.2,\n",
    "    height_shift_range = 0.2,\n",
    "    zoom_range = 0.1\n",
    ")"
   ]
  },
  {
   "cell_type": "code",
   "execution_count": 10,
   "id": "582a44e8",
   "metadata": {},
   "outputs": [
    {
     "name": "stdout",
     "output_type": "stream",
     "text": [
      "Found 240 images belonging to 2 classes.\n",
      "Found 60 images belonging to 2 classes.\n"
     ]
    }
   ],
   "source": [
    "train_generator = train_datagen.flow_from_directory(\n",
    "    train_dir,\n",
    "    target_size = (150, 150),\n",
    "    batch_size = 10,\n",
    "    class_mode = 'binary'\n",
    ")\n",
    "\n",
    "val_generator = val_datagen.flow_from_directory(\n",
    "    validation_dir,\n",
    "    target_size = (150, 150),\n",
    "    batch_size = 10,\n",
    "    class_mode = 'binary'\n",
    ")"
   ]
  },
  {
   "cell_type": "code",
   "execution_count": 11,
   "id": "0fa5dec8",
   "metadata": {},
   "outputs": [],
   "source": [
    "class myCallback(tf.keras.callbacks.Callback):\n",
    "  def on_epoch_end(self, epoch, logs = {}):\n",
    "    if(logs.get('accuracy')> 0.99):\n",
    "      print('\\nAkurasi mencapai 99%')\n",
    "      self.model.stop_training = True\n",
    "\n",
    "callbacks = myCallback()"
   ]
  },
  {
   "cell_type": "code",
   "execution_count": 31,
   "id": "b80c02b1",
   "metadata": {},
   "outputs": [],
   "source": [
    "model = tf.keras.models.Sequential([\n",
    "    tf.keras.layers.Conv2D(16, (3, 3), activation = 'relu', input_shape = (150, 150, 3)),\n",
    "    tf.keras.layers.MaxPooling2D(2, 2),\n",
    "    tf.keras.layers.Conv2D(32, (3, 3), activation = 'relu'),\n",
    "    tf.keras.layers.MaxPooling2D(2, 2),\n",
    "    tf.keras.layers.Conv2D(64, (3, 3), activation = 'relu'),\n",
    "    tf.keras.layers.MaxPooling2D(2, 2),\n",
    "    tf.keras.layers.Flatten(),\n",
    "    tf.keras.layers.Dense(200, activation = 'relu'),\n",
    "    tf.keras.layers.Dropout(0.3, seed=112),\n",
    "    tf.keras.layers.Dense(500, activation = 'relu'),\n",
    "    tf.keras.layers.Dropout(0.5, seed=112),\n",
    "    tf.keras.layers.Dense(1, activation = 'sigmoid'),\n",
    "])\n"
   ]
  },
  {
   "cell_type": "code",
   "execution_count": 32,
   "id": "4ee27d4d",
   "metadata": {},
   "outputs": [
    {
     "name": "stdout",
     "output_type": "stream",
     "text": [
      "Model: \"sequential_2\"\n",
      "_________________________________________________________________\n",
      " Layer (type)                Output Shape              Param #   \n",
      "=================================================================\n",
      " conv2d_6 (Conv2D)           (None, 148, 148, 16)      448       \n",
      "                                                                 \n",
      " max_pooling2d_6 (MaxPooling  (None, 74, 74, 16)       0         \n",
      " 2D)                                                             \n",
      "                                                                 \n",
      " conv2d_7 (Conv2D)           (None, 72, 72, 32)        4640      \n",
      "                                                                 \n",
      " max_pooling2d_7 (MaxPooling  (None, 36, 36, 32)       0         \n",
      " 2D)                                                             \n",
      "                                                                 \n",
      " conv2d_8 (Conv2D)           (None, 34, 34, 64)        18496     \n",
      "                                                                 \n",
      " max_pooling2d_8 (MaxPooling  (None, 17, 17, 64)       0         \n",
      " 2D)                                                             \n",
      "                                                                 \n",
      " flatten_2 (Flatten)         (None, 18496)             0         \n",
      "                                                                 \n",
      " dense_6 (Dense)             (None, 200)               3699400   \n",
      "                                                                 \n",
      " dropout_4 (Dropout)         (None, 200)               0         \n",
      "                                                                 \n",
      " dense_7 (Dense)             (None, 500)               100500    \n",
      "                                                                 \n",
      " dropout_5 (Dropout)         (None, 500)               0         \n",
      "                                                                 \n",
      " dense_8 (Dense)             (None, 1)                 501       \n",
      "                                                                 \n",
      "=================================================================\n",
      "Total params: 3,823,985\n",
      "Trainable params: 3,823,985\n",
      "Non-trainable params: 0\n",
      "_________________________________________________________________\n"
     ]
    }
   ],
   "source": [
    "model.summary()"
   ]
  },
  {
   "cell_type": "code",
   "execution_count": 33,
   "id": "4e0c7d8e",
   "metadata": {},
   "outputs": [],
   "source": [
    "model.compile(loss = 'binary_crossentropy',\n",
    "              optimizer = \"Adam\",\n",
    "              metrics = ['accuracy'])"
   ]
  },
  {
   "cell_type": "code",
   "execution_count": 34,
   "id": "4c3b5ca3",
   "metadata": {},
   "outputs": [
    {
     "name": "stdout",
     "output_type": "stream",
     "text": [
      "Epoch 1/30\n",
      "12/12 [==============================] - 4s 223ms/step - loss: 0.7337 - accuracy: 0.4917 - val_loss: 0.7010 - val_accuracy: 0.4333\n",
      "Epoch 2/30\n",
      "12/12 [==============================] - 2s 189ms/step - loss: 0.6315 - accuracy: 0.6167 - val_loss: 0.5039 - val_accuracy: 0.8000\n",
      "Epoch 3/30\n",
      "12/12 [==============================] - 2s 188ms/step - loss: 0.3670 - accuracy: 0.8417 - val_loss: 0.1860 - val_accuracy: 0.9667\n",
      "Epoch 4/30\n",
      "12/12 [==============================] - 2s 154ms/step - loss: 0.3763 - accuracy: 0.8833 - val_loss: 0.1700 - val_accuracy: 0.9333\n",
      "Epoch 5/30\n",
      "12/12 [==============================] - 2s 147ms/step - loss: 0.2789 - accuracy: 0.9333 - val_loss: 0.0925 - val_accuracy: 1.0000\n",
      "Epoch 6/30\n",
      "12/12 [==============================] - 2s 143ms/step - loss: 0.2013 - accuracy: 0.9417 - val_loss: 0.0690 - val_accuracy: 0.9667\n",
      "Epoch 7/30\n",
      "12/12 [==============================] - 2s 143ms/step - loss: 0.0988 - accuracy: 0.9833 - val_loss: 0.0012 - val_accuracy: 1.0000\n",
      "Epoch 8/30\n",
      "12/12 [==============================] - ETA: 0s - loss: 0.0142 - accuracy: 1.0000\n",
      "Akurasi mencapai 99%\n",
      "12/12 [==============================] - 2s 143ms/step - loss: 0.0142 - accuracy: 1.0000 - val_loss: 0.0145 - val_accuracy: 1.0000\n"
     ]
    }
   ],
   "source": [
    "history = model.fit(\n",
    "            train_generator,\n",
    "            steps_per_epoch = 12,\n",
    "            epochs = 30,  \n",
    "            validation_data = val_generator,\n",
    "            validation_steps = 3,\n",
    "            verbose = 1,\n",
    "            callbacks =[callbacks]\n",
    ")"
   ]
  },
  {
   "cell_type": "code",
   "execution_count": 35,
   "id": "dbc98785",
   "metadata": {},
   "outputs": [
    {
     "data": {
      "image/png": "[encoded data removed]",
      "text/plain": [
       "<Figure size 640x480 with 1 Axes>"
      ]
     },
     "metadata": {},
     "output_type": "display_data"
    }
   ],
   "source": [
    "fig = plt.figure()\n",
    "plt.plot(history.history['loss'], color='teal', label='loss')\n",
    "plt.plot(history.history['val_loss'], color='orange', label='val_loss')\n",
    "fig.suptitle('Loss', fontsize=20)\n",
    "plt.legend(loc=\"upper left\")\n",
    "plt.show()"
   ]
  },
  {
   "cell_type": "code",
   "execution_count": 36,
   "id": "567036cc",
   "metadata": {},
   "outputs": [
    {
     "data": {
      "image/png": "[encoded data removed]",
      "text/plain": [
       "<Figure size 640x480 with 1 Axes>"
      ]
     },
     "metadata": {},
     "output_type": "display_data"
    }
   ],
   "source": [
    "fig = plt.figure()\n",
    "plt.plot(history.history['accuracy'], color='teal', label='accuracy')\n",
    "plt.plot(history.history['val_accuracy'], color='orange', label='val_accuracy')\n",
    "fig.suptitle('Accuracy', fontsize=20)\n",
    "plt.legend(loc=\"upper left\")\n",
    "plt.show()"
   ]
  },
  {
   "cell_type": "code",
   "execution_count": 37,
   "id": "e60232c0",
   "metadata": {},
   "outputs": [
    {
     "name": "stdout",
     "output_type": "stream",
     "text": [
      "24/24 [==============================] - 3s 114ms/step - loss: 0.0704 - accuracy: 0.9750\n"
     ]
    },
    {
     "data": {
      "text/plain": [
       "[0.07037807255983353, 0.9750000238418579]"
      ]
     },
     "execution_count": 37,
     "metadata": {},
     "output_type": "execute_result"
    }
   ],
   "source": [
    "model.evaluate(train_generator)"
   ]
  },
  {
   "cell_type": "code",
   "execution_count": 38,
   "id": "3528170e",
   "metadata": {},
   "outputs": [
    {
     "name": "stdout",
     "output_type": "stream",
     "text": [
      "6/6 [==============================] - 1s 122ms/step - loss: 0.0315 - accuracy: 0.9833\n"
     ]
    },
    {
     "data": {
      "text/plain": [
       "[0.03151756152510643, 0.9833333492279053]"
      ]
     },
     "execution_count": 38,
     "metadata": {},
     "output_type": "execute_result"
    }
   ],
   "source": [
    "model.evaluate(val_generator)"
   ]
  },
  {
   "cell_type": "code",
   "execution_count": 39,
   "id": "4a376630",
   "metadata": {},
   "outputs": [],
   "source": [
    "model.save(\"Model5.h5\")"
   ]
  }
 ],
 "metadata": {
  "kernelspec": {
   "display_name": "Python 3 (ipykernel)",
   "language": "python",
   "name": "python3"
  },
  "language_info": {
   "codemirror_mode": {
    "name": "ipython",
    "version": 3
   },
   "file_extension": ".py",
   "mimetype": "text/x-python",
   "name": "python",
   "nbconvert_exporter": "python",
   "pygments_lexer": "ipython3",
   "version": "3.10.7"
  }
 },
 "nbformat": 4,
 "nbformat_minor": 5
}
